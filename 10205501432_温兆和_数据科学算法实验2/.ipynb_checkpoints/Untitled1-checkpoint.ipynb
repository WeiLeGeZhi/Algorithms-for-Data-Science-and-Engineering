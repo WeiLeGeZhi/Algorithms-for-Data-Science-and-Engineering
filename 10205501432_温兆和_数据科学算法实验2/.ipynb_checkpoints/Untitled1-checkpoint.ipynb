{
 "cells": [
  {
   "cell_type": "code",
   "execution_count": 1,
   "id": "e70b5112",
   "metadata": {},
   "outputs": [],
   "source": [
    "import tifffile as tf\n",
    "import numpy as np\n",
    "from PIL import Image\n",
    "import math\n",
    "import time"
   ]
  },
  {
   "cell_type": "code",
   "execution_count": 2,
   "id": "02ccdd39",
   "metadata": {},
   "outputs": [],
   "source": [
    "def v_to_m(a,b):\n",
    "    M = np.zeros((len(a),len(b)))\n",
    "    for i in range(len(a)):\n",
    "        for j in range(len(b)):\n",
    "            M[i][j]=a[i]*b[j]\n",
    "    return M"
   ]
  },
  {
   "cell_type": "code",
   "execution_count": 3,
   "id": "20737a41",
   "metadata": {},
   "outputs": [],
   "source": [
    "def power_method(matrix, epsilon=1e-6, max_iterations=1000):\n",
    "    n = len(matrix)\n",
    "    \n",
    "    # 初始化初始特征向量\n",
    "    eigen_vector = np.ones(n)\n",
    "    eigen_vector /= np.linalg.norm(eigen_vector)\n",
    "    \n",
    "    # 开始迭代\n",
    "    for _ in range(max_iterations):\n",
    "        # 计算新向量\n",
    "        new_vector = np.dot(matrix, eigen_vector)\n",
    "        \n",
    "        # 归一化新向量\n",
    "        new_vector /= np.linalg.norm(new_vector)\n",
    "        \n",
    "        # 计算误差\n",
    "        error = np.linalg.norm(new_vector - eigen_vector)\n",
    "        \n",
    "        # 更新特征向量\n",
    "        eigen_vector = new_vector\n",
    "        \n",
    "        # 判断是否满足停止条件\n",
    "        if error < epsilon:\n",
    "            break\n",
    "    \n",
    "    # 计算特征值\n",
    "    eigen_value = np.dot(np.dot(matrix, eigen_vector), eigen_vector)\n",
    "    \n",
    "    return eigen_value, eigen_vector"
   ]
  },
  {
   "cell_type": "code",
   "execution_count": 4,
   "id": "e55e5e44",
   "metadata": {},
   "outputs": [],
   "source": [
    "def eig_by_hand(M):\n",
    "    eigenvalue = []\n",
    "    eigenvector = []\n",
    "    main_eigen_value,main_eigen_vector=power_method(M)\n",
    "    eigenvalue.append(main_eigen_value)\n",
    "    eigenvector.append(main_eigen_vector)\n",
    "    for i in range (len(M)-1):\n",
    "        M_comma = M - main_eigen_value*(v_to_m(main_eigen_vector,main_eigen_vector))\n",
    "        if (np.all(M_comma==0)):\n",
    "            break\n",
    "        main_eigen_value,main_eigen_vector=power_method(M_comma)\n",
    "        eigenvalue.append(main_eigen_value)\n",
    "        eigenvector.append(main_eigen_vector)\n",
    "#         print(\"------------------\")\n",
    "#         print(\"i\")\n",
    "#         print(i)\n",
    "#         print(\"M_comma\")\n",
    "#         print(M_comma)\n",
    "#         print(\"main_eigen_value\")\n",
    "#         print(main_eigen_value)\n",
    "#         print(\"main_eigen_vector\")\n",
    "#         print(main_eigen_vector)\n",
    "#         print(\"eigen_value\")\n",
    "#         print(eigenvalue)\n",
    "#         print(\"eigen_vector\")\n",
    "#         print(eigenvector)\n",
    "        M = M_comma\n",
    "    return eigenvalue,eigenvector"
   ]
  },
  {
   "cell_type": "code",
   "execution_count": 5,
   "id": "4049d1cb",
   "metadata": {},
   "outputs": [],
   "source": [
    "def pic_cpr(route,k):\n",
    "    start = time.perf_counter()\n",
    "    img0 = tf.imread(route)\n",
    "    Red = np.zeros((256,256))\n",
    "    Red = np.zeros((256,256))\n",
    "    Green = np.zeros((256,256))\n",
    "    Blue = np.zeros((256,256))\n",
    "    for i in range (256):\n",
    "        for j in range (256):\n",
    "            Red[i][j]=img0[i][j][0]\n",
    "            Green[i][j]=img0[i][j][1]\n",
    "            Blue[i][j]=img0[i][j][2]\n",
    "    img1 = np.hstack((Red,Green,Blue))\n",
    "    means = np.mean(img1, axis=0).reshape(1, -1)\n",
    "    sds = np.std(img1, axis=0).reshape(1, -1)\n",
    "    img2 = (img1 - means) / sds\n",
    "    S = img2.T@img2\n",
    "    #W, Q = np.linalg.eig(S)\n",
    "    W, Q = eig_by_hand(S)\n",
    "    w_args = np.flip(np.argsort(W))\n",
    "    Q = Q[:, w_args]\n",
    "    W = W[w_args]\n",
    "    C = img2@Q\n",
    "    img3 = np.matmul(C[:, :k], Q.T[:k, :])\n",
    "    img3 = img3 * sds + means\n",
    "    img4=np.zeros((256,256,3),dtype = int)\n",
    "    for i in range (256):\n",
    "        for j in range (256):\n",
    "            img4[i][j][0]=math.floor(img3[i][j])\n",
    "            img4[i][j][1]=math.floor(img3[i][j+256])\n",
    "            img4[i][j][2]=math.floor(img3[i][j+256*2])\n",
    "    #Image.fromarray(np.uint8(img4))\n",
    "    end = time.perf_counter()\n",
    "    spent = end - start\n",
    "    return img4,spent"
   ]
  },
  {
   "cell_type": "code",
   "execution_count": 6,
   "id": "751b34b5",
   "metadata": {},
   "outputs": [
    {
     "ename": "TypeError",
     "evalue": "list indices must be integers or slices, not tuple",
     "output_type": "error",
     "traceback": [
      "\u001b[1;31m---------------------------------------------------------------------------\u001b[0m",
      "\u001b[1;31mTypeError\u001b[0m                                 Traceback (most recent call last)",
      "Cell \u001b[1;32mIn[6], line 3\u001b[0m\n\u001b[0;32m      1\u001b[0m route \u001b[38;5;241m=\u001b[39m \u001b[38;5;124m\"\u001b[39m\u001b[38;5;124mD:/数据科学与工程算法/10205501432_温兆和_数据科学算法实验2/Images/beach/beach00.tif\u001b[39m\u001b[38;5;124m\"\u001b[39m\n\u001b[0;32m      2\u001b[0m k\u001b[38;5;241m=\u001b[39m\u001b[38;5;241m50\u001b[39m\n\u001b[1;32m----> 3\u001b[0m img,time \u001b[38;5;241m=\u001b[39m \u001b[43mpic_cpr\u001b[49m\u001b[43m(\u001b[49m\u001b[43mroute\u001b[49m\u001b[43m,\u001b[49m\u001b[43mk\u001b[49m\u001b[43m)\u001b[49m\n\u001b[0;32m      4\u001b[0m Image\u001b[38;5;241m.\u001b[39mfromarray(np\u001b[38;5;241m.\u001b[39muint8(img4))\n",
      "Cell \u001b[1;32mIn[5], line 21\u001b[0m, in \u001b[0;36mpic_cpr\u001b[1;34m(route, k)\u001b[0m\n\u001b[0;32m     19\u001b[0m W, Q \u001b[38;5;241m=\u001b[39m eig_by_hand(S)\n\u001b[0;32m     20\u001b[0m w_args \u001b[38;5;241m=\u001b[39m np\u001b[38;5;241m.\u001b[39mflip(np\u001b[38;5;241m.\u001b[39margsort(W))\n\u001b[1;32m---> 21\u001b[0m Q \u001b[38;5;241m=\u001b[39m \u001b[43mQ\u001b[49m\u001b[43m[\u001b[49m\u001b[43m:\u001b[49m\u001b[43m,\u001b[49m\u001b[43m \u001b[49m\u001b[43mw_args\u001b[49m\u001b[43m]\u001b[49m\n\u001b[0;32m     22\u001b[0m W \u001b[38;5;241m=\u001b[39m W[w_args]\n\u001b[0;32m     23\u001b[0m C \u001b[38;5;241m=\u001b[39m img2\u001b[38;5;129m@Q\u001b[39m\n",
      "\u001b[1;31mTypeError\u001b[0m: list indices must be integers or slices, not tuple"
     ]
    }
   ],
   "source": [
    "route = \"D:/数据科学与工程算法/10205501432_温兆和_数据科学算法实验2/Images/beach/beach00.tif\"\n",
    "k=50\n",
    "img,time = pic_cpr(route,k)\n",
    "Image.fromarray(np.uint8(img4))"
   ]
  },
  {
   "cell_type": "code",
   "execution_count": 7,
   "id": "3b05077e",
   "metadata": {},
   "outputs": [
    {
     "name": "stdout",
     "output_type": "stream",
     "text": [
      "特征值: [-1.  2. -1.]\n",
      "特征向量: [[-0.81649658  0.57735027 -0.09265789]\n",
      " [ 0.40824829  0.57735027 -0.65620994]\n",
      " [ 0.40824829  0.57735027  0.74886783]]\n"
     ]
    }
   ],
   "source": [
    "M = np.array([[0,1,1],[1,0,1],[1,1,0]])\n",
    "eigen_value1, eigen_vector1 = np.linalg.eig(M)\n",
    "print(\"特征值:\", eigen_value1)\n",
    "print(\"特征向量:\", eigen_vector1)"
   ]
  },
  {
   "cell_type": "code",
   "execution_count": 8,
   "id": "ea2ac924",
   "metadata": {},
   "outputs": [
    {
     "name": "stdout",
     "output_type": "stream",
     "text": [
      "特征值: [2.0000000000000004, -1.0, -8.925046806884217e-16]\n",
      "特征向量: [array([0.57735027, 0.57735027, 0.57735027]), array([ 0.40824829,  0.40824829, -0.81649658]), array([0.55977338, 0.55977338, 0.61098898])]\n"
     ]
    }
   ],
   "source": [
    "eigen_value2, eigen_vector2 = eig_by_hand(M)\n",
    "print(\"特征值:\", eigen_value2)\n",
    "print(\"特征向量:\", eigen_vector2)"
   ]
  },
  {
   "cell_type": "code",
   "execution_count": 12,
   "id": "2f51f49a",
   "metadata": {},
   "outputs": [
    {
     "name": "stdout",
     "output_type": "stream",
     "text": [
      "[[-0.00858548  0.93919697  1.06938851]\n",
      " [ 0.93919697  0.06938852  0.99141452]\n",
      " [ 1.06938851  0.99141452 -0.06080302]]\n"
     ]
    }
   ],
   "source": [
    "A=2*v_to_m([0.57735027,0.57735027,0.57735027],[0.57735027,0.57735027,0.57735027])-v_to_m([-0.81649658,0.40824829,0.40824829],[-0.81649658,0.40824829,0.40824829])-v_to_m([-0.09265789,-0.65620994,0.74886783],[-0.09265789,-0.65620994,0.74886783])\n",
    "print(A)"
   ]
  },
  {
   "cell_type": "code",
   "execution_count": null,
   "id": "263b7871",
   "metadata": {},
   "outputs": [],
   "source": []
  }
 ],
 "metadata": {
  "kernelspec": {
   "display_name": "Python 3 (ipykernel)",
   "language": "python",
   "name": "python3"
  },
  "language_info": {
   "codemirror_mode": {
    "name": "ipython",
    "version": 3
   },
   "file_extension": ".py",
   "mimetype": "text/x-python",
   "name": "python",
   "nbconvert_exporter": "python",
   "pygments_lexer": "ipython3",
   "version": "3.10.9"
  }
 },
 "nbformat": 4,
 "nbformat_minor": 5
}
