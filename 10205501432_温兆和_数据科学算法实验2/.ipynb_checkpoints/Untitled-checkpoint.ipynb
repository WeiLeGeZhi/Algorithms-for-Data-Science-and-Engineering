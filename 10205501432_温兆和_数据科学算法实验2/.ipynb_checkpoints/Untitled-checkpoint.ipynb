{
 "cells": [
  {
   "cell_type": "code",
   "execution_count": null,
   "id": "fb6b266a",
   "metadata": {},
   "outputs": [],
   "source": [
    "import tifffile as tf\n",
    "import numpy as np\n",
    "from PIL import Image\n",
    "import math\n",
    "import time"
   ]
  },
  {
   "cell_type": "code",
   "execution_count": null,
   "id": "b025e56b",
   "metadata": {},
   "outputs": [],
   "source": [
    "def v_to_m(a,b):\n",
    "    M = np.zeros((len(a),len(b)))\n",
    "    for i in range(len(a)):\n",
    "        for j in range(len(b)):\n",
    "            M[i][j]=a[i]*b[j]\n",
    "    return M"
   ]
  },
  {
   "cell_type": "code",
   "execution_count": null,
   "id": "459bda03",
   "metadata": {},
   "outputs": [],
   "source": [
    "def power_method(matrix, epsilon=1e-6, max_iterations=1000):\n",
    "    n = len(matrix)\n",
    "    \n",
    "    # 初始化初始特征向量\n",
    "    eigen_vector = np.ones(n)\n",
    "    eigen_vector /= np.linalg.norm(eigen_vector)\n",
    "    \n",
    "    # 开始迭代\n",
    "    for _ in range(max_iterations):\n",
    "        # 计算新向量\n",
    "        new_vector = np.dot(matrix, eigen_vector)\n",
    "        \n",
    "        # 归一化新向量\n",
    "        new_vector /= np.linalg.norm(new_vector)\n",
    "        \n",
    "        # 计算误差\n",
    "        error = np.linalg.norm(new_vector - eigen_vector)\n",
    "        \n",
    "        # 更新特征向量\n",
    "        eigen_vector = new_vector\n",
    "        \n",
    "        # 判断是否满足停止条件\n",
    "        if error < epsilon:\n",
    "            break\n",
    "    \n",
    "    # 计算特征值\n",
    "    eigen_value = np.dot(np.dot(matrix, eigen_vector), eigen_vector)\n",
    "    \n",
    "    return eigen_value, eigen_vector"
   ]
  },
  {
   "cell_type": "code",
   "execution_count": null,
   "id": "644f53b0",
   "metadata": {},
   "outputs": [],
   "source": [
    "def eig_by_hand(M):\n",
    "    eigenvalue = []\n",
    "    eigenvector = []\n",
    "    main_eigen_value,main_eigen_vector=power_method(M)\n",
    "    eigenvalue.append(main_eigen_value)\n",
    "    eigenvector.append(main_eigen_vector)\n",
    "    for i in range (len(M)-1):\n",
    "        M_comma = M - main_eigen_value*(v_to_m(main_eigen_vector,main_eigen_vector))\n",
    "        if (np.all(M_comma==0)):\n",
    "            break\n",
    "        main_eigen_value,main_eigen_vector=power_method(M_comma)\n",
    "        eigenvalue.append(main_eigen_value)\n",
    "        eigenvector.append(main_eigen_vector)\n",
    "#         print(\"------------------\")\n",
    "#         print(\"i\")\n",
    "#         print(i)\n",
    "#         print(\"M_comma\")\n",
    "#         print(M_comma)\n",
    "#         print(\"main_eigen_value\")\n",
    "#         print(main_eigen_value)\n",
    "#         print(\"main_eigen_vector\")\n",
    "#         print(main_eigen_vector)\n",
    "#         print(\"eigen_value\")\n",
    "#         print(eigenvalue)\n",
    "#         print(\"eigen_vector\")\n",
    "#         print(eigenvector)\n",
    "        M = M_comma\n",
    "    return eigenvalue,eigenvector"
   ]
  },
  {
   "cell_type": "code",
   "execution_count": null,
   "id": "0be2c2c9",
   "metadata": {},
   "outputs": [],
   "source": [
    "def pic_cpr(route,k):\n",
    "    start = time.perf_counter()\n",
    "    img0 = tf.imread(route)\n",
    "    Red = np.zeros((256,256))\n",
    "    Red = np.zeros((256,256))\n",
    "    Green = np.zeros((256,256))\n",
    "    Blue = np.zeros((256,256))\n",
    "    for i in range (256):\n",
    "        for j in range (256):\n",
    "            Red[i][j]=img0[i][j][0]\n",
    "            Green[i][j]=img0[i][j][1]\n",
    "            Blue[i][j]=img0[i][j][2]\n",
    "    img1 = np.hstack((Red,Green,Blue))\n",
    "    means = np.mean(img1, axis=0).reshape(1, -1)\n",
    "    sds = np.std(img1, axis=0).reshape(1, -1)\n",
    "    img2 = (img1 - means) / sds\n",
    "    S = img2.T@img2\n",
    "    #W, Q = np.linalg.eig(S)\n",
    "    W, Q = eig_by_hand(S)\n",
    "    w_args = np.flip(np.argsort(W))\n",
    "    Q = Q[:, w_args]\n",
    "    W = W[w_args]\n",
    "    C = img2@Q\n",
    "    img3 = np.matmul(C[:, :k], Q.T[:k, :])\n",
    "    img3 = img3 * sds + means\n",
    "    img4=np.zeros((256,256,3),dtype = int)\n",
    "    for i in range (256):\n",
    "        for j in range (256):\n",
    "            img4[i][j][0]=math.floor(img3[i][j])\n",
    "            img4[i][j][1]=math.floor(img3[i][j+256])\n",
    "            img4[i][j][2]=math.floor(img3[i][j+256*2])\n",
    "    #Image.fromarray(np.uint8(img4))\n",
    "    end = time.perf_counter()\n",
    "    spent = end - start\n",
    "    return img4,spent"
   ]
  },
  {
   "cell_type": "code",
   "execution_count": null,
   "id": "d38d851b",
   "metadata": {},
   "outputs": [],
   "source": [
    "route = \"D:/数据科学与工程算法/10205501432_温兆和_数据科学算法实验2/Images/beach/beach00.tif\"\n",
    "k=50\n",
    "img,time = pic_cpr(route,k)\n",
    "Image.fromarray(np.uint8(img4))"
   ]
  },
  {
   "cell_type": "code",
   "execution_count": 34,
   "id": "e178cc58",
   "metadata": {},
   "outputs": [
    {
     "name": "stdout",
     "output_type": "stream",
     "text": [
      "特征值: [-0.37228132  5.37228132]\n",
      "特征向量: [[-0.82456484 -0.41597356]\n",
      " [ 0.56576746 -0.90937671]]\n"
     ]
    }
   ],
   "source": [
    "M = np.array([[1,2],[3,4]])\n",
    "eigen_value1, eigen_vector1 = np.linalg.eig(M)\n",
    "print(\"特征值:\", eigen_value1)\n",
    "print(\"特征向量:\", eigen_vector1)"
   ]
  },
  {
   "cell_type": "code",
   "execution_count": 35,
   "id": "5f693a26",
   "metadata": {},
   "outputs": [
    {
     "name": "stdout",
     "output_type": "stream",
     "text": [
      "------------------\n",
      "i\n",
      "0\n",
      "M_comma\n",
      "[[ 0.0704125  -0.03220881]\n",
      " [ 0.96779119 -0.44269387]]\n",
      "main_eigen_value\n",
      "-0.37228076458797354\n",
      "main_eigen_vector\n",
      "[-0.0725647  -0.99736371]\n",
      "eigen_value\n",
      "[5.372281361983701, -0.37228076458797354]\n",
      "eigen_vector\n",
      "[array([0.41597359, 0.90937669]), array([-0.0725647 , -0.99736371])]\n",
      "特征值: [5.372281361983701, -0.37228076458797354]\n",
      "特征向量: [[-0.82456484 -0.41597356]\n",
      " [ 0.56576746 -0.90937671]]\n"
     ]
    }
   ],
   "source": [
    "eigen_value2, eigen_vector2 = eig_by_hand(M)\n",
    "print(\"特征值:\", eigen_value2)\n",
    "print(\"特征向量:\", eigen_vector1)"
   ]
  },
  {
   "cell_type": "code",
   "execution_count": null,
   "id": "14c90e0c",
   "metadata": {},
   "outputs": [],
   "source": []
  }
 ],
 "metadata": {
  "kernelspec": {
   "display_name": "Python 3 (ipykernel)",
   "language": "python",
   "name": "python3"
  },
  "language_info": {
   "codemirror_mode": {
    "name": "ipython",
    "version": 3
   },
   "file_extension": ".py",
   "mimetype": "text/x-python",
   "name": "python",
   "nbconvert_exporter": "python",
   "pygments_lexer": "ipython3",
   "version": "3.10.9"
  }
 },
 "nbformat": 4,
 "nbformat_minor": 5
}
