{
 "cells": [
  {
   "cell_type": "code",
   "execution_count": 1,
   "id": "e70b5112",
   "metadata": {},
   "outputs": [],
   "source": [
    "import tifffile as tf\n",
    "import numpy as np\n",
    "from PIL import Image\n",
    "import math\n",
    "import time\n",
    "from sympy import *\n",
    "import random"
   ]
  },
  {
   "cell_type": "code",
   "execution_count": 26,
   "id": "02ccdd39",
   "metadata": {},
   "outputs": [],
   "source": [
    "def v_to_m(a,b):\n",
    "    M = np.zeros((len(a),len(b)))\n",
    "    for i in range(len(a)):\n",
    "        for j in range(len(b)):\n",
    "            M[i][j]=a[i]*b[j]\n",
    "    return M"
   ]
  },
  {
   "cell_type": "code",
   "execution_count": 27,
   "id": "a484a086",
   "metadata": {},
   "outputs": [],
   "source": [
    "def QR(M):\n",
    "    A = []\n",
    "    L = []\n",
    "    for j in range(len(M)):\n",
    "        a = []\n",
    "        for i in range(len(M)):\n",
    "            a.append(M[i][j])\n",
    "        A.append(Matrix(a))\n",
    "        L.append(np.array(a))\n",
    "    b = GramSchmidt(A)\n",
    "    Q = []\n",
    "    R = np.zeros((len(M),len(M)))\n",
    "    for i in range(len(b)):\n",
    "        a = []\n",
    "        for j in range(len(b[i])):\n",
    "            a.append(b[i][j])\n",
    "        q = np.array(a)\n",
    "        q=q.astype('float')\n",
    "        R[i][i]=np.linalg.norm(q)\n",
    "        q /= np.linalg.norm(q)\n",
    "        Q.append(q)\n",
    "    for i in range(len(M)):\n",
    "        for j in range(i+1,len(M)):\n",
    "            R[i][j]=np.dot(Q[i],L[j])\n",
    "    return np.array(Q).T,R"
   ]
  },
  {
   "cell_type": "code",
   "execution_count": 28,
   "id": "e55e5e44",
   "metadata": {},
   "outputs": [],
   "source": [
    "def eig_by_hand(M,max_iteration = 1000,epsilon = 1e-6):\n",
    "    A = M\n",
    "    S = np.eye(len(M))\n",
    "    for I in range (max_iteration):\n",
    "        Q,R = QR(A)\n",
    "        S = S@Q\n",
    "        A_1 = R@Q\n",
    "        if (np.linalg.norm(A_1-A,ord = np.inf)<=epsilon):\n",
    "            A = A_1\n",
    "            break\n",
    "        A = A_1\n",
    "    ev = []\n",
    "    for i in range(len(M)):\n",
    "        ev.append(A[i][i])\n",
    "    eigenvalue = np.array(ev)\n",
    "    return eigenvalue,S"
   ]
  },
  {
   "cell_type": "code",
   "execution_count": null,
   "id": "4049d1cb",
   "metadata": {},
   "outputs": [],
   "source": [
    "def pic_cpr(route,k):\n",
    "    start = time.perf_counter()\n",
    "    img0 = tf.imread(route)\n",
    "    Red = np.zeros((256,256))\n",
    "    Red = np.zeros((256,256))\n",
    "    Green = np.zeros((256,256))\n",
    "    Blue = np.zeros((256,256))\n",
    "    print(\"checkpoint1\")\n",
    "    for i in range (256):\n",
    "        for j in range (256):\n",
    "            Red[i][j]=img0[i][j][0]\n",
    "            Green[i][j]=img0[i][j][1]\n",
    "            Blue[i][j]=img0[i][j][2]\n",
    "    print(\"checkpoint2\")\n",
    "    img1 = np.hstack((Red,Green,Blue))\n",
    "    means = np.mean(img1, axis=0).reshape(1, -1)\n",
    "    sds = np.std(img1, axis=0).reshape(1, -1)\n",
    "    img2 = (img1 - means) / sds\n",
    "    S = img2.T@img2\n",
    "    #W, Q = np.linalg.eig(S)\n",
    "    W, Q = eig_by_hand(S)\n",
    "    w_args = np.flip(np.argsort(W))\n",
    "    Q = Q[:, w_args]\n",
    "    W = W[w_args]\n",
    "    C = img2@Q\n",
    "    img3 = np.matmul(C[:, :k], Q.T[:k, :])\n",
    "    img3 = img3 * sds + means\n",
    "    img4=np.zeros((256,256,3),dtype = int)\n",
    "    print(\"checkpoint3\")\n",
    "    for i in range (256):\n",
    "        for j in range (256):\n",
    "            img4[i][j][0]=math.floor(img3[i][j])\n",
    "            img4[i][j][1]=math.floor(img3[i][j+256])\n",
    "            img4[i][j][2]=math.floor(img3[i][j+256*2])\n",
    "    print(\"checkpoint4\")\n",
    "    #Image.fromarray(np.uint8(img4))\n",
    "    end = time.perf_counter()\n",
    "    spent = end - start\n",
    "    return img4,spent"
   ]
  },
  {
   "cell_type": "code",
   "execution_count": null,
   "id": "751b34b5",
   "metadata": {},
   "outputs": [],
   "source": [
    "route = \"D:/数据科学与工程算法/10205501432_温兆和_数据科学算法实验2/Images/beach/beach00.tif\"\n",
    "k=50\n",
    "img,time = pic_cpr(route,k)\n",
    "#Image.fromarray(np.uint8(img4))"
   ]
  },
  {
   "cell_type": "code",
   "execution_count": null,
   "id": "ef29740b",
   "metadata": {},
   "outputs": [],
   "source": []
  }
 ],
 "metadata": {
  "kernelspec": {
   "display_name": "Python 3 (ipykernel)",
   "language": "python",
   "name": "python3"
  },
  "language_info": {
   "codemirror_mode": {
    "name": "ipython",
    "version": 3
   },
   "file_extension": ".py",
   "mimetype": "text/x-python",
   "name": "python",
   "nbconvert_exporter": "python",
   "pygments_lexer": "ipython3",
   "version": "3.10.9"
  }
 },
 "nbformat": 4,
 "nbformat_minor": 5
}
